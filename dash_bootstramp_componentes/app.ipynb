{
 "cells": [
  {
   "cell_type": "code",
   "execution_count": 4,
   "metadata": {},
   "outputs": [],
   "source": [
    "!pip install charset_normalizer -U -q"
   ]
  },
  {
   "cell_type": "code",
   "execution_count": 5,
   "metadata": {},
   "outputs": [
    {
     "name": "stderr",
     "output_type": "stream",
     "text": [
      "/Users/carlosroberto/anaconda3/envs/asimov/lib/python3.11/site-packages/requests/__init__.py:86: RequestsDependencyWarning: Unable to find acceptable character detection dependency (chardet or charset_normalizer).\n",
      "  warnings.warn(\n"
     ]
    },
    {
     "data": {
      "text/html": [
       "\n",
       "        <iframe\n",
       "            width=\"100%\"\n",
       "            height=\"650\"\n",
       "            src=\"http://127.0.0.1:8050/\"\n",
       "            frameborder=\"0\"\n",
       "            allowfullscreen\n",
       "            \n",
       "        ></iframe>\n",
       "        "
      ],
      "text/plain": [
       "<IPython.lib.display.IFrame at 0x12337fc50>"
      ]
     },
     "metadata": {},
     "output_type": "display_data"
    }
   ],
   "source": [
    "# Import packages\n",
    "from dash import Dash, html, dash_table, dcc, callback, Output, Input\n",
    "import pandas as pd\n",
    "import plotly.express as px\n",
    "import dash_bootstrap_components as dbc\n",
    "\n",
    "# Incorporate data\n",
    "df = pd.read_csv(\n",
    "    \"https://raw.githubusercontent.com/plotly/datasets/master/gapminder2007.csv\"\n",
    ")\n",
    "\n",
    "# Initialize the app - incorporate a Dash Bootstrap theme\n",
    "external_stylesheets = [dbc.themes.CERULEAN]\n",
    "app = Dash(__name__, external_stylesheets=external_stylesheets)\n",
    "\n",
    "# App layout\n",
    "app.layout = dbc.Container(\n",
    "    [\n",
    "        dbc.Row(\n",
    "            [\n",
    "                html.Div(\n",
    "                    \"My First App with Data, Graph, and Controls\",\n",
    "                    className=\"text-primary text-center fs-3\",\n",
    "                )\n",
    "            ]\n",
    "        ),\n",
    "        dbc.Row(\n",
    "            [\n",
    "                dbc.RadioItems(\n",
    "                    options=[\n",
    "                        {\"label\": x, \"value\": x}\n",
    "                        for x in [\"pop\", \"lifeExp\", \"gdpPercap\"]\n",
    "                    ],\n",
    "                    value=\"lifeExp\",\n",
    "                    inline=True,\n",
    "                    id=\"radio-buttons-final\",\n",
    "                )\n",
    "            ]\n",
    "        ),\n",
    "        dbc.Row(\n",
    "            [\n",
    "                dbc.Col(\n",
    "                    [\n",
    "                        dash_table.DataTable(\n",
    "                            data=df.to_dict(\"records\"),\n",
    "                            page_size=12,\n",
    "                            style_table={\"overflowX\": \"auto\"},\n",
    "                        )\n",
    "                    ],\n",
    "                    width=6,\n",
    "                ),\n",
    "                dbc.Col([dcc.Graph(figure={}, id=\"my-first-graph-final\")], width=6),\n",
    "            ]\n",
    "        ),\n",
    "    ],\n",
    "    fluid=True,\n",
    ")\n",
    "\n",
    "\n",
    "# Add controls to build the interaction\n",
    "@callback(\n",
    "    Output(component_id=\"my-first-graph-final\", component_property=\"figure\"),\n",
    "    Input(component_id=\"radio-buttons-final\", component_property=\"value\"),\n",
    ")\n",
    "def update_graph(col_chosen):\n",
    "    fig = px.histogram(df, x=\"continent\", y=col_chosen, histfunc=\"avg\")\n",
    "    return fig\n",
    "\n",
    "\n",
    "# Run the app\n",
    "if __name__ == \"__main__\":\n",
    "    app.run(debug=True)"
   ]
  }
 ],
 "metadata": {
  "kernelspec": {
   "display_name": "asimov",
   "language": "python",
   "name": "python3"
  },
  "language_info": {
   "codemirror_mode": {
    "name": "ipython",
    "version": 3
   },
   "file_extension": ".py",
   "mimetype": "text/x-python",
   "name": "python",
   "nbconvert_exporter": "python",
   "pygments_lexer": "ipython3",
   "version": "3.11.9"
  }
 },
 "nbformat": 4,
 "nbformat_minor": 2
}
